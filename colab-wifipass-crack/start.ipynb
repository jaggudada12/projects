{
 "cells": [
  {
   "cell_type": "markdown",
   "metadata": {},
   "source": [
    "This ipynb or python-notebook is for cracking wifi passwords\n",
    "requiremets:\n",
    "file.hc22000 #hc22000 format\n",
    "wordlist.txt"
   ]
  },
  {
   "cell_type": "markdown",
   "metadata": {},
   "source": [
    "Set up tools"
   ]
  },
  {
   "cell_type": "code",
   "execution_count": null,
   "metadata": {},
   "outputs": [],
   "source": [
    "#install hashcat and dependencies\n",
    "!git clone https://github.com/hashcat/hashcat.git && cd hashcat && make -j `nproc` && make install"
   ]
  },
  {
   "cell_type": "code",
   "execution_count": null,
   "metadata": {},
   "outputs": [],
   "source": [
    "#benchmark hashcat\n",
    "!hashcat -m 22000 -w 4 -b"
   ]
  },
  {
   "cell_type": "markdown",
   "metadata": {},
   "source": [
    "For SSH connection"
   ]
  },
  {
   "cell_type": "code",
   "execution_count": null,
   "metadata": {},
   "outputs": [],
   "source": [
    "#ssh tmate server\n",
    "!pkill -9 tmate\n",
    "!wget -nc https://github.com/tmate-io/tmate/releases/download/2.4.0/tmate-2.4.0-static-linux-i386.tar.xz &> /dev/null\n",
    "!tar --skip-old-files -xvf tmate-2.4.0-static-linux-i386.tar.xz &> /dev/null\n",
    "!rm -f nohup.out; bash -ic 'nohup ./tmate-2.4.0-static-linux-i386/tmate -S /tmp/tmate.sock new-session -d & disown -a' >/dev/null 2>&1\n",
    "!./tmate-2.4.0-static-linux-i386/tmate -S /tmp/tmate.sock wait tmate-ready\n",
    "!./tmate-2.4.0-static-linux-i386/tmate -S /tmp/tmate.sock display -p \"#{tmate_ssh}\""
   ]
  },
  {
   "cell_type": "code",
   "execution_count": null,
   "metadata": {},
   "outputs": [],
   "source": [
    "#for keep awake ssh connection\n",
    "import time\n",
    "time.sleep(10000000)"
   ]
  },
  {
   "cell_type": "markdown",
   "metadata": {},
   "source": [
    "Upload file to crack!"
   ]
  },
  {
   "cell_type": "code",
   "execution_count": null,
   "metadata": {},
   "outputs": [],
   "source": [
    "#file only saves to runtime, deletes after session is closed\n",
    "from google.colab import files\n",
    "uploaded = files.upload()"
   ]
  },
  {
   "cell_type": "markdown",
   "metadata": {},
   "source": [
    "Crack it!\n",
    "for word list:\n",
    "\"don't forget to edit the file.hc22000 and wordlist.txt\"\n",
    "\n",
    "for letters, digits, and all combinations:\n",
    "\"don't forget to edit the file.hc22000, method, and increments\""
   ]
  },
  {
   "cell_type": "code",
   "execution_count": null,
   "metadata": {},
   "outputs": [],
   "source": [
    "#wordlist\n",
    "!hashcat -m 22000 file.hc22000 wordlist.txt"
   ]
  },
  {
   "cell_type": "code",
   "execution_count": null,
   "metadata": {},
   "outputs": [],
   "source": [
    "#4 to 8 digit\n",
    "!hashcat -m 22000 file.hc22000 -a 3 --increment --increment-min 4 --increment-max 8 ?d?d?d?d?d?d?d?d"
   ]
  },
  {
   "cell_type": "code",
   "execution_count": null,
   "metadata": {},
   "outputs": [],
   "source": [
    "#4 to 12 digit\n",
    "!hashcat -m 22000 file.hc22000 -a 3 --increment --increment-min 4 --increment-max 12 ?d?d?d?d?d?d?d?d?d?d?d?d"
   ]
  }
 ],
 "metadata": {
  "language_info": {
   "name": "python"
  },
  "orig_nbformat": 4
 },
 "nbformat": 4,
 "nbformat_minor": 2
}
